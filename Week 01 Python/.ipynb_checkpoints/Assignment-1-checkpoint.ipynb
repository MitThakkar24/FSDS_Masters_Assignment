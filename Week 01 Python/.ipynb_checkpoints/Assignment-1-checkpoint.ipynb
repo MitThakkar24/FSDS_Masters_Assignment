{
 "cells": [
  {
   "cell_type": "markdown",
   "id": "6dd3b157",
   "metadata": {},
   "source": [
    "# Q1. Create one variable containing following type of data:\n"
   ]
  },
  {
   "cell_type": "code",
   "execution_count": 3,
   "id": "8c919bf1",
   "metadata": {},
   "outputs": [],
   "source": [
    "# (i) string\n",
    "String1 = \"Hello World\"\n",
    "\n",
    "# (ii) list\n",
    "List1 = [1,2,3,4,5]\n",
    "\n",
    "# (iii) float\n",
    "Float1 = 12.12\n",
    "\n",
    "# (iv) tuple\n",
    "Tuple1 = (12,23,34,4,4)"
   ]
  },
  {
   "cell_type": "markdown",
   "id": "5315c24d",
   "metadata": {},
   "source": [
    "# Q2. Given are some following variables containing data:"
   ]
  },
  {
   "cell_type": "markdown",
   "id": "7cd9e3c3",
   "metadata": {},
   "source": [
    "###### (i) var1 = ‘ ‘\n",
    "###### -> String\n",
    "###### (ii) var2 = ‘[ DS , ML , Python]’\n",
    "###### -> String\n",
    "###### (iii) var3 = [ ‘DS’ , ’ML’ , ‘Python’ ]\n",
    "###### -> List\n",
    "###### (iv) var4 = 1.\n",
    "###### -> Int"
   ]
  },
  {
   "cell_type": "markdown",
   "id": "145caa09",
   "metadata": {},
   "source": [
    "# Q3. Explain the use of the following operators using an example:"
   ]
  },
  {
   "cell_type": "code",
   "execution_count": 16,
   "id": "8005fb63",
   "metadata": {},
   "outputs": [
    {
     "name": "stdout",
     "output_type": "stream",
     "text": [
      "3.3333333333333335\n"
     ]
    }
   ],
   "source": [
    "# (i) /: The division operator. It divides one number by another.\n",
    "a = 10\n",
    "b = 3\n",
    "result = a / b\n",
    "print(result)  # Output will be 3.3333...\n",
    "\n"
   ]
  },
  {
   "cell_type": "code",
   "execution_count": 17,
   "id": "c8404a3f",
   "metadata": {},
   "outputs": [
    {
     "name": "stdout",
     "output_type": "stream",
     "text": [
      "1\n"
     ]
    }
   ],
   "source": [
    "# (ii) %: The modulus operator. It gives the remainder of the division of one number by another.\n",
    "\n",
    "a = 10\n",
    "b = 3\n",
    "remainder = a % b\n",
    "print(remainder)  # Output will be 1\n"
   ]
  },
  {
   "cell_type": "code",
   "execution_count": 18,
   "id": "16e999e9",
   "metadata": {},
   "outputs": [
    {
     "name": "stdout",
     "output_type": "stream",
     "text": [
      "3\n"
     ]
    }
   ],
   "source": [
    "# (iii) //: The floor division operator. It divides one number by another and returns the floor value (integer part) of the result.\n",
    "\n",
    "a = 10\n",
    "b = 3\n",
    "result = a // b\n",
    "print(result)  # Output will be 3\n"
   ]
  },
  {
   "cell_type": "code",
   "execution_count": 19,
   "id": "1c92f42d",
   "metadata": {},
   "outputs": [
    {
     "name": "stdout",
     "output_type": "stream",
     "text": [
      "8\n"
     ]
    }
   ],
   "source": [
    "# (iv) **: The exponentiation operator. It raises the left operand to the power of the right operand.\n",
    "\n",
    "a = 2\n",
    "b = 3\n",
    "result = a ** b\n",
    "print(result)  # Output will be 8\n",
    "\n"
   ]
  },
  {
   "cell_type": "markdown",
   "id": "900804c6",
   "metadata": {},
   "source": [
    "# Q4. Create a list of length 10 of your choice containing multiple types of data. Using for loop print the element and its data type."
   ]
  },
  {
   "cell_type": "code",
   "execution_count": 21,
   "id": "816500b9",
   "metadata": {},
   "outputs": [
    {
     "name": "stdout",
     "output_type": "stream",
     "text": [
      "Element: 10 | Data Type: <class 'int'>\n",
      "Element: Hello | Data Type: <class 'str'>\n",
      "Element: 3.14 | Data Type: <class 'float'>\n",
      "Element: True | Data Type: <class 'bool'>\n",
      "Element: [1, 2, 3] | Data Type: <class 'list'>\n",
      "Element: {'a': 1, 'b': 2} | Data Type: <class 'dict'>\n",
      "Element: None | Data Type: <class 'NoneType'>\n",
      "Element: (4, 5) | Data Type: <class 'tuple'>\n",
      "Element: 7.8 | Data Type: <class 'float'>\n",
      "Element: False | Data Type: <class 'bool'>\n"
     ]
    }
   ],
   "source": [
    "my_list = [10, \"Hello\", 3.14, True, [1, 2, 3], {'a': 1, 'b': 2}, None, (4, 5), 7.8, False]\n",
    "\n",
    "for element in my_list:\n",
    "    print(f\"Element: {element} | Data Type: {type(element)}\")\n"
   ]
  },
  {
   "cell_type": "markdown",
   "id": "eff24282",
   "metadata": {},
   "source": [
    "# Q5. Using a while loop, verify if the number A is purely divisible by number B and if so then how many times it can be divisible."
   ]
  },
  {
   "cell_type": "code",
   "execution_count": 22,
   "id": "dd35cb18",
   "metadata": {},
   "outputs": [
    {
     "name": "stdout",
     "output_type": "stream",
     "text": [
      "Enter number A: 12\n",
      "Enter number B: 14\n",
      "A is not divisible by B\n"
     ]
    }
   ],
   "source": [
    "# Taking input for numbers A and B\n",
    "A = int(input(\"Enter number A: \"))\n",
    "B = int(input(\"Enter number B: \"))\n",
    "\n",
    "# Initializing a count variable to track the number of times A is divisible by B\n",
    "count = 0\n",
    "\n",
    "# Checking if A is divisible by B and counting the number of times it is divisible\n",
    "while A % B == 0:\n",
    "    count += 1\n",
    "    A /= B\n",
    "\n",
    "if count > 0:\n",
    "    print(f\"{count} times divisible\")\n",
    "else:\n",
    "    print(\"A is not divisible by B\")\n"
   ]
  },
  {
   "cell_type": "markdown",
   "id": "fb0018ba",
   "metadata": {},
   "source": [
    "# Q6. Create a list containing 25 int type data. Using for loop and if-else condition print if the element is divisible by 3 or not.\n"
   ]
  },
  {
   "cell_type": "code",
   "execution_count": 23,
   "id": "e8b45140",
   "metadata": {},
   "outputs": [
    {
     "name": "stdout",
     "output_type": "stream",
     "text": [
      "1 is not divisible by 3\n",
      "2 is not divisible by 3\n",
      "3 is divisible by 3\n",
      "4 is not divisible by 3\n",
      "5 is not divisible by 3\n",
      "6 is divisible by 3\n",
      "7 is not divisible by 3\n",
      "8 is not divisible by 3\n",
      "9 is divisible by 3\n",
      "10 is not divisible by 3\n",
      "11 is not divisible by 3\n",
      "12 is divisible by 3\n",
      "13 is not divisible by 3\n",
      "14 is not divisible by 3\n",
      "15 is divisible by 3\n",
      "16 is not divisible by 3\n",
      "17 is not divisible by 3\n",
      "18 is divisible by 3\n",
      "19 is not divisible by 3\n",
      "20 is not divisible by 3\n",
      "21 is divisible by 3\n",
      "22 is not divisible by 3\n",
      "23 is not divisible by 3\n",
      "24 is divisible by 3\n",
      "25 is not divisible by 3\n"
     ]
    }
   ],
   "source": [
    "# Creating a list containing 25 int type data\n",
    "my_list = [i for i in range(1, 26)]  # Generating numbers from 1 to 25\n",
    "\n",
    "# Using for loop and if-else condition to check divisibility by 3\n",
    "for num in my_list:\n",
    "    if num % 3 == 0:\n",
    "        print(f\"{num} is divisible by 3\")\n",
    "    else:\n",
    "        print(f\"{num} is not divisible by 3\")\n"
   ]
  },
  {
   "cell_type": "markdown",
   "id": "a2b4daeb",
   "metadata": {},
   "source": [
    "# Q7. What do you understand about mutable and immutable data types? Give examples for both showing this property."
   ]
  },
  {
   "cell_type": "raw",
   "id": "b733259f",
   "metadata": {},
   "source": [
    "Mutable Data Types:\n",
    "-> Mutable data types can be altered or modified after creation.\n",
    "-> Changes to mutable objects happen in place, meaning the object itself is modified.\n",
    "-> Examples of mutable data types in Python include lists, dictionaries, and sets."
   ]
  },
  {
   "cell_type": "code",
   "execution_count": 24,
   "id": "4b580839",
   "metadata": {},
   "outputs": [
    {
     "name": "stdout",
     "output_type": "stream",
     "text": [
      "Original List: [1, 2, 3, 4]\n",
      "Modified List: [1, 2, 3, 4, 5]\n"
     ]
    }
   ],
   "source": [
    "my_list = [1, 2, 3, 4]\n",
    "print(\"Original List:\", my_list)\n",
    "\n",
    "# Modifying the list - appending an element\n",
    "my_list.append(5)\n",
    "print(\"Modified List:\", my_list)\n"
   ]
  },
  {
   "cell_type": "raw",
   "id": "f04e7036",
   "metadata": {},
   "source": [
    "Immutable Data Types:\n",
    "\n",
    "-> Immutable data types, once created, cannot be altered or changed.\n",
    "-> Operations on immutable objects return a new object instead of modifying the original.\n",
    "-> Examples of immutable data types in Python include tuples, strings, and integers.\n",
    "-> Example demonstrating the immutability of a string:"
   ]
  },
  {
   "cell_type": "code",
   "execution_count": 25,
   "id": "2f0fb392",
   "metadata": {},
   "outputs": [
    {
     "name": "stdout",
     "output_type": "stream",
     "text": [
      "Original String: Hello\n",
      "Modified String: Hello, World!\n"
     ]
    }
   ],
   "source": [
    "my_string = \"Hello\"\n",
    "print(\"Original String:\", my_string)\n",
    "\n",
    "# Trying to modify the string (which is not possible)\n",
    "# This will create a new string object instead of modifying the original\n",
    "my_modified_string = my_string + \", World!\"\n",
    "print(\"Modified String:\", my_modified_string)\n"
   ]
  },
  {
   "cell_type": "code",
   "execution_count": null,
   "id": "809dca45",
   "metadata": {},
   "outputs": [],
   "source": []
  }
 ],
 "metadata": {
  "kernelspec": {
   "display_name": "Python 3 (ipykernel)",
   "language": "python",
   "name": "python3"
  },
  "language_info": {
   "codemirror_mode": {
    "name": "ipython",
    "version": 3
   },
   "file_extension": ".py",
   "mimetype": "text/x-python",
   "name": "python",
   "nbconvert_exporter": "python",
   "pygments_lexer": "ipython3",
   "version": "3.9.7"
  }
 },
 "nbformat": 4,
 "nbformat_minor": 5
}
