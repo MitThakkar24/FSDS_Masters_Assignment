{
 "cells": [
  {
   "cell_type": "markdown",
   "id": "a1960ae2",
   "metadata": {},
   "source": [
    "### Q1. What is a database? Differentiate between SQL and NoSQL databases.\n"
   ]
  },
  {
   "cell_type": "raw",
   "id": "3e6b636e",
   "metadata": {},
   "source": [
    "-> A Database is an organized collection of structured information or data that is stired and managed in a computer system. It's designed to efficiently manage, retrieve, and update data\n",
    "-> databases come in various types, but they all serve the purpose or storing and organizing data for easy access and manipulation"
   ]
  },
  {
   "cell_type": "raw",
   "id": "7c0cb1e4",
   "metadata": {},
   "source": [
    "-> SQL and NoSQL databases are two main types that differ in their structure, querying language and how they stored and manage data"
   ]
  },
  {
   "cell_type": "markdown",
   "id": "d13bbc46",
   "metadata": {},
   "source": [
    "#### 1. SQL Database"
   ]
  },
  {
   "cell_type": "raw",
   "id": "cd424cb9",
   "metadata": {},
   "source": [
    "-> Structureed Query Language Databases are relational databases that use a tabular sturcture to store data\n",
    "-> They have predefined schemas, meaning the structure of the data is defined beforehand, and all data entries must adhere to that structure\n",
    "-> SQL Databases are known for their ACID Compliance, ensuring data integrity and transcation support.\n",
    "-> Example : MySQL, PostgreSQL, Oracle, and SQL Server"
   ]
  },
  {
   "cell_type": "markdown",
   "id": "093198e9",
   "metadata": {},
   "source": [
    "##### 2. NoSQL Databse"
   ]
  },
  {
   "cell_type": "code",
   "execution_count": null,
   "id": "9642fae5",
   "metadata": {},
   "outputs": [],
   "source": []
  },
  {
   "cell_type": "code",
   "execution_count": null,
   "id": "8697e119",
   "metadata": {},
   "outputs": [],
   "source": []
  },
  {
   "cell_type": "code",
   "execution_count": null,
   "id": "19d43bb8",
   "metadata": {},
   "outputs": [],
   "source": []
  },
  {
   "cell_type": "markdown",
   "id": "b2581988",
   "metadata": {},
   "source": [
    "### Q2. What is DDL? Explain why CREATE, DROP, ALTER, and TRUNCATE are used with an example.\n"
   ]
  },
  {
   "cell_type": "code",
   "execution_count": null,
   "id": "f23fb11c",
   "metadata": {},
   "outputs": [],
   "source": []
  },
  {
   "cell_type": "markdown",
   "id": "ccfdffc3",
   "metadata": {},
   "source": [
    "### Q3. What is DML? Explain INSERT, UPDATE, and DELETE with an example.\n"
   ]
  },
  {
   "cell_type": "code",
   "execution_count": null,
   "id": "d4e4b43c",
   "metadata": {},
   "outputs": [],
   "source": []
  },
  {
   "cell_type": "markdown",
   "id": "0eb77096",
   "metadata": {},
   "source": [
    "### Q4. What is DQL? Explain SELECT with an example.\n"
   ]
  },
  {
   "cell_type": "code",
   "execution_count": null,
   "id": "1cf17f4a",
   "metadata": {},
   "outputs": [],
   "source": []
  },
  {
   "cell_type": "markdown",
   "id": "96e19940",
   "metadata": {},
   "source": [
    "### Q5. Explain Primary Key and Foreign Key.\n"
   ]
  },
  {
   "cell_type": "code",
   "execution_count": null,
   "id": "10f1df8f",
   "metadata": {},
   "outputs": [],
   "source": []
  },
  {
   "cell_type": "markdown",
   "id": "2fc38f14",
   "metadata": {},
   "source": [
    "### Q6. Write a python code to connect MySQL to python. Explain the cursor() and execute() method.\n"
   ]
  },
  {
   "cell_type": "code",
   "execution_count": null,
   "id": "4988b620",
   "metadata": {},
   "outputs": [],
   "source": []
  },
  {
   "cell_type": "markdown",
   "id": "886faafd",
   "metadata": {},
   "source": [
    "### Q7. Give the order of execution of SQL clauses in an SQL query."
   ]
  },
  {
   "cell_type": "code",
   "execution_count": null,
   "id": "a2b515f9",
   "metadata": {},
   "outputs": [],
   "source": []
  }
 ],
 "metadata": {
  "kernelspec": {
   "display_name": "Python 3 (ipykernel)",
   "language": "python",
   "name": "python3"
  },
  "language_info": {
   "codemirror_mode": {
    "name": "ipython",
    "version": 3
   },
   "file_extension": ".py",
   "mimetype": "text/x-python",
   "name": "python",
   "nbconvert_exporter": "python",
   "pygments_lexer": "ipython3",
   "version": "3.9.7"
  }
 },
 "nbformat": 4,
 "nbformat_minor": 5
}
